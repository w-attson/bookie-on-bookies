{
 "cells": [
  {
   "cell_type": "code",
   "execution_count": 16,
   "id": "a13e2add-8c71-4913-ac06-12c1580c0b77",
   "metadata": {
    "tags": []
   },
   "outputs": [],
   "source": [
    "# Initial imports\n",
    "from pathlib import Path\n",
    "import pandas as pd\n",
    "import hvplot.pandas\n",
    "from sklearn.cluster import KMeans\n",
    "from sklearn.preprocessing import StandardScaler\n",
    "from sklearn.model_selection import train_test_split\n",
    "\n",
    "# # Keras modules\n",
    "# from tensorflow.keras.models import Sequential\n",
    "# from tensorflow.keras.layers import Dense\n",
    "\n"
   ]
  },
  {
   "cell_type": "code",
   "execution_count": 17,
   "id": "652f2e5d-edaa-44e7-b611-28a35fe92513",
   "metadata": {
    "tags": []
   },
   "outputs": [
    {
     "name": "stdout",
     "output_type": "stream",
     "text": [
      "<class 'pandas.core.frame.DataFrame'>\n",
      "RangeIndex: 13188 entries, 0 to 13187\n",
      "Data columns (total 89 columns):\n",
      " #   Column                           Non-Null Count  Dtype  \n",
      "---  ------                           --------------  -----  \n",
      " 0   meetingName                      13188 non-null  object \n",
      " 1   meetingDate                      13188 non-null  object \n",
      " 2   raceNumber                       13188 non-null  int64  \n",
      " 3   runnerNumber                     13188 non-null  int64  \n",
      " 4   location                         0 non-null      float64\n",
      " 5   weatherCondition                 13022 non-null  object \n",
      " 6   trackCondition                   13022 non-null  object \n",
      " 7   raceName                         13188 non-null  object \n",
      " 8   raceStartTime                    13188 non-null  object \n",
      " 9   raceDistance                     13188 non-null  int64  \n",
      " 10  trackDirection                   0 non-null      float64\n",
      " 11  raceClassConditions              13188 non-null  object \n",
      " 12  runnerName                       13188 non-null  object \n",
      " 13  riderName                        13188 non-null  object \n",
      " 14  finishingPosition                13022 non-null  float64\n",
      " 15  FixedWinOpen                     13188 non-null  float64\n",
      " 16  FixedWinClose                    13188 non-null  float64\n",
      " 17  overall (runner starts)          13188 non-null  int64  \n",
      " 18  track (runner starts)            13188 non-null  int64  \n",
      " 19  firm (runner starts)             13188 non-null  int64  \n",
      " 20  good (runner starts)             13188 non-null  int64  \n",
      " 21  dead (runner starts)             13188 non-null  int64  \n",
      " 22  slow (runner starts)             13188 non-null  int64  \n",
      " 23  soft (runner starts)             13188 non-null  int64  \n",
      " 24  heavy (runner starts)            13188 non-null  int64  \n",
      " 25  distance (runner starts)         13188 non-null  int64  \n",
      " 26  classSame (runner starts)        13188 non-null  int64  \n",
      " 27  classStronger (runner starts)    13188 non-null  int64  \n",
      " 28  firstUp (runner starts)          13188 non-null  int64  \n",
      " 29  secondUp (runner starts)         13188 non-null  int64  \n",
      " 30  trackDistance (runner starts)    13188 non-null  int64  \n",
      " 31  overall (runner wins)            13188 non-null  int64  \n",
      " 32  track (runner wins)              13188 non-null  int64  \n",
      " 33  firm (runner wins)               13188 non-null  int64  \n",
      " 34  good (runner wins)               13188 non-null  int64  \n",
      " 35  dead (runner wins)               13188 non-null  int64  \n",
      " 36  slow (runner wins)               13188 non-null  int64  \n",
      " 37  soft (runner wins)               13188 non-null  int64  \n",
      " 38  heavy (runner wins)              13188 non-null  int64  \n",
      " 39  distance (runner wins)           13188 non-null  int64  \n",
      " 40  classSame (runner wins)          13188 non-null  int64  \n",
      " 41  classStronger (runner wins)      13188 non-null  int64  \n",
      " 42  firstUp (runner wins)            13188 non-null  int64  \n",
      " 43  secondUp (runner wins)           13188 non-null  int64  \n",
      " 44  trackDistance (runner wins)      13188 non-null  int64  \n",
      " 45  overall (runner placings)        13188 non-null  int64  \n",
      " 46  track (runner placings)          13188 non-null  int64  \n",
      " 47  firm (runner placings)           13188 non-null  int64  \n",
      " 48  good (runner placings)           13188 non-null  int64  \n",
      " 49  dead (runner placings)           13188 non-null  int64  \n",
      " 50  slow (runner placings)           13188 non-null  int64  \n",
      " 51  soft (runner placings)           13188 non-null  int64  \n",
      " 52  heavy (runner placings)          13188 non-null  int64  \n",
      " 53  distance (runner placings)       13188 non-null  int64  \n",
      " 54  classSame (runner placings)      13188 non-null  int64  \n",
      " 55  classStronger (runner placings)  13188 non-null  int64  \n",
      " 56  firstUp (runner placings)        13188 non-null  int64  \n",
      " 57  secondUp (runner placings)       13188 non-null  int64  \n",
      " 58  trackDistance (runner placings)  13188 non-null  int64  \n",
      " 59  track (trainer starts)           13188 non-null  int64  \n",
      " 60  region (trainer starts)          13188 non-null  int64  \n",
      " 61  last30Days (trainer starts)      13188 non-null  int64  \n",
      " 62  last12Months (trainer starts)    13188 non-null  int64  \n",
      " 63  jockey (trainer starts)          13188 non-null  int64  \n",
      " 64  track (trainer wins)             13188 non-null  int64  \n",
      " 65  region (trainer wins)            13188 non-null  int64  \n",
      " 66  last30Days (trainer wins)        13188 non-null  int64  \n",
      " 67  last12Months (trainer wins)      13188 non-null  int64  \n",
      " 68  jockey (trainer wins)            13188 non-null  int64  \n",
      " 69  track (trainer placings)         13188 non-null  int64  \n",
      " 70  region (trainer placings)        13188 non-null  int64  \n",
      " 71  last30Days (trainer placings)    13188 non-null  int64  \n",
      " 72  last12Months (trainer placings)  13188 non-null  int64  \n",
      " 73  jockey (trainer placings)        13188 non-null  int64  \n",
      " 74  track (rider starts)             13188 non-null  int64  \n",
      " 75  region (rider starts)            13188 non-null  int64  \n",
      " 76  last30Days (rider starts)        13188 non-null  int64  \n",
      " 77  last12Months (rider starts)      13188 non-null  int64  \n",
      " 78  runner (rider starts)            13188 non-null  int64  \n",
      " 79  track (rider wins)               13188 non-null  int64  \n",
      " 80  region (rider wins)              13188 non-null  int64  \n",
      " 81  last30Days (rider wins)          13188 non-null  int64  \n",
      " 82  last12Months (rider wins)        13188 non-null  int64  \n",
      " 83  runner (rider wins)              13188 non-null  int64  \n",
      " 84  track (rider placings)           13188 non-null  int64  \n",
      " 85  region (rider placings)          13188 non-null  int64  \n",
      " 86  last30Days (rider placings)      13188 non-null  int64  \n",
      " 87  last12Months (rider placings)    13188 non-null  int64  \n",
      " 88  runner (rider placings)          13188 non-null  int64  \n",
      "dtypes: float64(5), int64(75), object(9)\n",
      "memory usage: 9.0+ MB\n"
     ]
    }
   ],
   "source": [
    "df = pd.read_csv(Path('runner_result_runner_result.csv'))\n",
    "df = df.drop(columns=\"Unnamed: 0\")\n",
    "df.info()"
   ]
  },
  {
   "cell_type": "code",
   "execution_count": 18,
   "id": "d8024594-1f55-4806-8477-3362b7f67a6c",
   "metadata": {
    "tags": []
   },
   "outputs": [],
   "source": [
    "runner_starts_df = df.iloc[:, 17:31]\n",
    "runner_wins_df = df.iloc[:,31:45]\n",
    "runner_placings_df = df.iloc[:,45:59]\n",
    "trainer_starts_df = df.iloc[:,59:64]\n",
    "trainer_wins_df = df.iloc[:,64:69]\n",
    "trainer_placings_df = df.iloc[:,69:74]\n",
    "rider_starts_df = df.iloc[:,74:79]\n",
    "rider_wins_df = df.iloc[:,79:84]\n",
    "rider_placings_df = df.iloc[:,84:]\n",
    "fixed_wins_df = df.iloc[:,15:17] \n",
    "\n",
    "runners_df = pd.concat([runner_starts_df,runner_wins_df,runner_placings_df],axis=1,join='inner')\n",
    "trainer_df = pd.concat([trainer_starts_df,trainer_wins_df,trainer_placings_df],axis=1,join='inner')\n",
    "rider_df = pd.concat([rider_starts_df,rider_wins_df,rider_placings_df],axis=1,join='inner') \n",
    "\n",
    "df = df.iloc[:,0:15]\n"
   ]
  },
  {
   "cell_type": "code",
   "execution_count": 19,
   "id": "7c851a75-5e2a-4e2d-955f-d915c0e1e919",
   "metadata": {
    "tags": []
   },
   "outputs": [
    {
     "data": {
      "text/plain": [
       "0.0    10435\n",
       "1.0      919\n",
       "3.0      917\n",
       "2.0      917\n",
       "Name: finishingPosition, dtype: int64"
      ]
     },
     "execution_count": 19,
     "metadata": {},
     "output_type": "execute_result"
    }
   ],
   "source": [
    "df['finishingPosition'] = df['finishingPosition'].apply( lambda x: x if x>=1 and x<=3 else 0 )\n",
    "df.finishingPosition.value_counts()\n",
    "# df"
   ]
  },
  {
   "cell_type": "code",
   "execution_count": 20,
   "id": "b145f700-bdd8-4b1c-8f6a-597bb2ca19c6",
   "metadata": {
    "tags": []
   },
   "outputs": [],
   "source": [
    "# Convert categorical features to numerical\n",
    "weatherCondition_df = pd.get_dummies(df.weatherCondition)\n",
    "trackCondition_df = pd.get_dummies(df.trackCondition)\n",
    "raceClassConditions_df = pd.get_dummies(df.raceClassConditions)\n",
    "# raceName = pd.get_dummies(df.raceName)\n",
    "# meetingName = pd.get_dummies(df.meetingName)"
   ]
  },
  {
   "cell_type": "code",
   "execution_count": 21,
   "id": "7bd4cf52-0b25-46f0-9587-743a8c6be8a4",
   "metadata": {
    "tags": []
   },
   "outputs": [],
   "source": [
    "# df = pd.concat([weatherCondition,trackCondition,raceClassConditions,raceName,meetingName,df],axis=1)\n",
    "# df = pd.concat([df,weatherCondition,trackCondition,raceClassConditions],axis=1)\n",
    "# df"
   ]
  },
  {
   "cell_type": "code",
   "execution_count": 22,
   "id": "1d88fade-2413-43a7-839a-551072583ed0",
   "metadata": {
    "tags": []
   },
   "outputs": [
    {
     "data": {
      "text/plain": [
       "0        0.0\n",
       "1        0.0\n",
       "2        0.0\n",
       "3        0.0\n",
       "4        1.0\n",
       "        ... \n",
       "13183    2.0\n",
       "13184    0.0\n",
       "13185    0.0\n",
       "13186    1.0\n",
       "13187    0.0\n",
       "Name: finishingPosition, Length: 13188, dtype: float64"
      ]
     },
     "execution_count": 22,
     "metadata": {},
     "output_type": "execute_result"
    }
   ],
   "source": [
    "y = df.finishingPosition\n",
    "y"
   ]
  },
  {
   "cell_type": "code",
   "execution_count": 23,
   "id": "0081d853-80ca-4f76-8622-1f2e600cc17b",
   "metadata": {
    "tags": []
   },
   "outputs": [
    {
     "data": {
      "text/html": [
       "<div>\n",
       "<style scoped>\n",
       "    .dataframe tbody tr th:only-of-type {\n",
       "        vertical-align: middle;\n",
       "    }\n",
       "\n",
       "    .dataframe tbody tr th {\n",
       "        vertical-align: top;\n",
       "    }\n",
       "\n",
       "    .dataframe thead th {\n",
       "        text-align: right;\n",
       "    }\n",
       "</style>\n",
       "<table border=\"1\" class=\"dataframe\">\n",
       "  <thead>\n",
       "    <tr style=\"text-align: right;\">\n",
       "      <th></th>\n",
       "      <th>raceNumber</th>\n",
       "      <th>runnerNumber</th>\n",
       "      <th>raceDistance</th>\n",
       "      <th>finishingPosition</th>\n",
       "    </tr>\n",
       "  </thead>\n",
       "  <tbody>\n",
       "    <tr>\n",
       "      <th>0</th>\n",
       "      <td>1</td>\n",
       "      <td>3</td>\n",
       "      <td>1100</td>\n",
       "      <td>0.0</td>\n",
       "    </tr>\n",
       "    <tr>\n",
       "      <th>1</th>\n",
       "      <td>1</td>\n",
       "      <td>11</td>\n",
       "      <td>1100</td>\n",
       "      <td>0.0</td>\n",
       "    </tr>\n",
       "    <tr>\n",
       "      <th>2</th>\n",
       "      <td>1</td>\n",
       "      <td>2</td>\n",
       "      <td>1100</td>\n",
       "      <td>0.0</td>\n",
       "    </tr>\n",
       "    <tr>\n",
       "      <th>3</th>\n",
       "      <td>1</td>\n",
       "      <td>9</td>\n",
       "      <td>1100</td>\n",
       "      <td>0.0</td>\n",
       "    </tr>\n",
       "    <tr>\n",
       "      <th>4</th>\n",
       "      <td>1</td>\n",
       "      <td>8</td>\n",
       "      <td>1100</td>\n",
       "      <td>1.0</td>\n",
       "    </tr>\n",
       "    <tr>\n",
       "      <th>...</th>\n",
       "      <td>...</td>\n",
       "      <td>...</td>\n",
       "      <td>...</td>\n",
       "      <td>...</td>\n",
       "    </tr>\n",
       "    <tr>\n",
       "      <th>13183</th>\n",
       "      <td>8</td>\n",
       "      <td>5</td>\n",
       "      <td>1300</td>\n",
       "      <td>2.0</td>\n",
       "    </tr>\n",
       "    <tr>\n",
       "      <th>13184</th>\n",
       "      <td>8</td>\n",
       "      <td>4</td>\n",
       "      <td>1300</td>\n",
       "      <td>0.0</td>\n",
       "    </tr>\n",
       "    <tr>\n",
       "      <th>13185</th>\n",
       "      <td>8</td>\n",
       "      <td>7</td>\n",
       "      <td>1300</td>\n",
       "      <td>0.0</td>\n",
       "    </tr>\n",
       "    <tr>\n",
       "      <th>13186</th>\n",
       "      <td>8</td>\n",
       "      <td>6</td>\n",
       "      <td>1300</td>\n",
       "      <td>1.0</td>\n",
       "    </tr>\n",
       "    <tr>\n",
       "      <th>13187</th>\n",
       "      <td>8</td>\n",
       "      <td>1</td>\n",
       "      <td>1300</td>\n",
       "      <td>0.0</td>\n",
       "    </tr>\n",
       "  </tbody>\n",
       "</table>\n",
       "<p>13188 rows × 4 columns</p>\n",
       "</div>"
      ],
      "text/plain": [
       "       raceNumber  runnerNumber  raceDistance  finishingPosition\n",
       "0               1             3          1100                0.0\n",
       "1               1            11          1100                0.0\n",
       "2               1             2          1100                0.0\n",
       "3               1             9          1100                0.0\n",
       "4               1             8          1100                1.0\n",
       "...           ...           ...           ...                ...\n",
       "13183           8             5          1300                2.0\n",
       "13184           8             4          1300                0.0\n",
       "13185           8             7          1300                0.0\n",
       "13186           8             6          1300                1.0\n",
       "13187           8             1          1300                0.0\n",
       "\n",
       "[13188 rows x 4 columns]"
      ]
     },
     "execution_count": 23,
     "metadata": {},
     "output_type": "execute_result"
    }
   ],
   "source": [
    "df = df.drop(columns=['weatherCondition','trackCondition','location','trackDirection','runnerName','riderName'])\n",
    "df = df.drop(columns=['meetingDate','raceStartTime','raceClassConditions','raceName','meetingName'])\n",
    "X = df.drop(columns='finishingPosition')\n",
    "X = X.drop(columns=['raceNumber','runnerNumber'])\n",
    "\n",
    "X"
   ]
  },
  {
   "cell_type": "code",
   "execution_count": 24,
   "id": "4cf630be-03da-46cc-8e2c-c02081efb581",
   "metadata": {
    "tags": []
   },
   "outputs": [],
   "source": [
    "def deep_net(X,y,include_dfs,epochs,no_hidden_nodes,no_layers):\n",
    "    from tensorflow.keras.models import Sequential\n",
    "    from tensorflow.keras.layers import Dense\n",
    "    import matplotlib.pyplot as plt\n",
    "    \n",
    "    if len(include) > 0:\n",
    "        for data_frame in include_dfs:\n",
    "            X = pd.concat([X, data_frame],axis=1,join='inner')\n",
    "\n",
    "    X_train, X_test, y_train, y_test = train_test_split(X, y, random_state=1)\n",
    "    X_scaler = StandardScaler()\n",
    "    X_scaler.fit(X_train)\n",
    "    X_train_scaled = X_scaler.transform(X_train)\n",
    "    X_test_scaled = X_scaler.transform(X_test)\n",
    "  \n",
    "    neuron = Sequential()\n",
    "    \n",
    "    number_inputs = len(X_test_scaled[0])\n",
    "    number_hidden_nodes = no_hidden_nodes\n",
    "    neuron.add(Dense(units=number_hidden_nodes, activation=\"relu\", input_dim=number_inputs))\n",
    "    \n",
    "    count = 0;\n",
    "    while count < no_layers:\n",
    "        neuron.add(Dense(units=number_hidden_nodes, activation=\"relu\"))\n",
    "        count = count + 1\n",
    "\n",
    "    neuron.add(Dense(units=1, activation=\"linear\"))\n",
    "\n",
    "    neuron.compile(loss=\"mean_squared_error\", optimizer=\"adam\", metrics=[\"accuracy\"])\n",
    "    # neuron.compile(loss=\"mean_squared_error\", optimizer=\"adam\", metrics=[\"mse\"])    \n",
    "\n",
    "    model = neuron.fit(X_train_scaled, y_train, validation_split=0.3, epochs=epochs)#,verbose=0) \n",
    "    \n",
    "    # importances = model.feature_importances_\n",
    "    \n",
    "    # Evaluate the model using testing data\n",
    "    model_loss, model_accuracy = neuron.evaluate(X_test_scaled, y_test, verbose=2)\n",
    "    print(f\"Loss: {model_loss}, Accuracy: {model_accuracy}\")\n",
    "\n",
    "\n",
    "    plt.plot(model.history[\"loss\"])\n",
    "    plt.plot(model.history[\"val_loss\"])\n",
    "    plt.title(f\"loss_function - Training Vs. Validation - {no_layers} hidden layers\")\n",
    "    plt.legend([\"train\", \"test\"])\n",
    "    plt.show()\n",
    "    \n",
    "    return model;\n",
    "    \n"
   ]
  },
  {
   "cell_type": "code",
   "execution_count": 36,
   "id": "18e79f98-5dc5-4158-8978-02e72fdb324c",
   "metadata": {
    "tags": []
   },
   "outputs": [
    {
     "name": "stdout",
     "output_type": "stream",
     "text": [
      "Epoch 1/10\n",
      "217/217 [==============================] - 2s 4ms/step - loss: 0.8581 - accuracy: 0.7872 - val_loss: 0.8223 - val_accuracy: 0.7719\n",
      "Epoch 2/10\n",
      "217/217 [==============================] - 1s 3ms/step - loss: 0.8053 - accuracy: 0.7588 - val_loss: 0.8064 - val_accuracy: 0.7871\n",
      "Epoch 3/10\n",
      "217/217 [==============================] - 1s 3ms/step - loss: 0.7961 - accuracy: 0.7913 - val_loss: 0.8015 - val_accuracy: 0.7864\n",
      "Epoch 4/10\n",
      "217/217 [==============================] - 1s 3ms/step - loss: 0.7932 - accuracy: 0.7885 - val_loss: 0.8002 - val_accuracy: 0.7800\n",
      "Epoch 5/10\n",
      "217/217 [==============================] - 1s 3ms/step - loss: 0.7926 - accuracy: 0.7841 - val_loss: 0.7998 - val_accuracy: 0.7759\n",
      "Epoch 6/10\n",
      "217/217 [==============================] - 1s 3ms/step - loss: 0.7927 - accuracy: 0.7832 - val_loss: 0.8002 - val_accuracy: 0.7766\n",
      "Epoch 7/10\n",
      "217/217 [==============================] - 1s 3ms/step - loss: 0.7928 - accuracy: 0.7822 - val_loss: 0.7996 - val_accuracy: 0.7732\n",
      "Epoch 8/10\n",
      "217/217 [==============================] - 1s 3ms/step - loss: 0.7923 - accuracy: 0.7817 - val_loss: 0.8000 - val_accuracy: 0.7759\n",
      "Epoch 9/10\n",
      "217/217 [==============================] - 1s 3ms/step - loss: 0.7925 - accuracy: 0.7820 - val_loss: 0.7999 - val_accuracy: 0.7759\n",
      "Epoch 10/10\n",
      "217/217 [==============================] - 1s 3ms/step - loss: 0.7922 - accuracy: 0.7822 - val_loss: 0.7996 - val_accuracy: 0.7682\n",
      "104/104 - 0s - loss: 0.8137 - accuracy: 0.7801 - 177ms/epoch - 2ms/step\n",
      "Loss: 0.8137216567993164, Accuracy: 0.7801031470298767\n"
     ]
    },
    {
     "data": {
      "image/png": "[encoded data removed]",
      "text/plain": [
       "<Figure size 640x480 with 1 Axes>"
      ]
     },
     "metadata": {},
     "output_type": "display_data"
    }
   ],
   "source": [
    "# runners_df = pd.concat([runner_starts_df,runner_wins_df,runner_placings_df],axis=1,join='inner')\n",
    "# runner_starts_df\n",
    "# runner_wins_df\n",
    "# runner_placings_df\n",
    "\n",
    "# trainer_df = pd.concat([trainer_starts_df,trainer_wins_df,trainer_placings_df],axis=1,join='inner')\n",
    "# trainer_starts_df\n",
    "# trainer_wins_df\n",
    "# trainer_placings_df\n",
    "\n",
    "# rider_df = pd.concat([rider_starts_df,rider_wins_df,rider_placings_df],axis=1,join='inner') \n",
    "# rider_starts_df\n",
    "# rider_wins_df\n",
    "# rider_placings_df\n",
    "\n",
    "# fixed_wins_df\n",
    "# df = df.iloc[:,0:15]\n",
    "\n",
    "# weatherCondition_df\n",
    "# trackCondition_df\n",
    "# trackCondition_df\n",
    "\n",
    "include = [weatherCondition_df,trackCondition_df,trackCondition_df]\n",
    "no_layers = 1\n",
    "epochs = 10#50\n",
    "hidden_nodes = 5#10\n",
    "model = deep_net(X,y,include,epochs,hidden_nodes,no_layers)\n"
   ]
  },
  {
   "cell_type": "code",
   "execution_count": 26,
   "id": "9d7f11e3-78fe-4fea-8eef-9f0bcf355cf2",
   "metadata": {},
   "outputs": [
    {
     "data": {
      "text/plain": [
       "keras.src.callbacks.History"
      ]
     },
     "execution_count": 26,
     "metadata": {},
     "output_type": "execute_result"
    }
   ],
   "source": [
    "    # Create a DataFrame with the history dictionary\n",
    "    eval_df = pd.DataFrame( model.history, index=range(1, len(model.history[\"loss\"]) + 1))\n",
    "    \n",
    "    # Plot the loss\n",
    "    # eval_df.plot(y=\"loss\")\n",
    "    # eval_df\n",
    "    \n",
    "    type(model)"
   ]
  },
  {
   "cell_type": "code",
   "execution_count": null,
   "id": "f0543817-a0dc-478b-b43c-e9476bebbf67",
   "metadata": {},
   "outputs": [],
   "source": []
  }
 ],
 "metadata": {
  "kernelspec": {
   "display_name": "Python 3 (ipykernel)",
   "language": "python",
   "name": "python3"
  },
  "language_info": {
   "codemirror_mode": {
    "name": "ipython",
    "version": 3
   },
   "file_extension": ".py",
   "mimetype": "text/x-python",
   "name": "python",
   "nbconvert_exporter": "python",
   "pygments_lexer": "ipython3",
   "version": "3.10.11"
  }
 },
 "nbformat": 4,
 "nbformat_minor": 5
}
