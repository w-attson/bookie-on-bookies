{
 "cells": [
  {
   "cell_type": "code",
   "execution_count": 3,
   "id": "196a67ca-5691-422c-b2ec-4d1c876c7e42",
   "metadata": {
    "tags": []
   },
   "outputs": [],
   "source": [
    "from sklearn.linear_model import LogisticRegression\n",
    "from pathlib import Path\n",
    "import pandas as pd\n"
   ]
  },
  {
   "cell_type": "code",
   "execution_count": 33,
   "id": "2360cc91-fbd2-41dc-a14b-5331a7ec7630",
   "metadata": {
    "tags": []
   },
   "outputs": [
    {
     "name": "stdout",
     "output_type": "stream",
     "text": [
      "<class 'pandas.core.frame.DataFrame'>\n",
      "RangeIndex: 13188 entries, 0 to 13187\n",
      "Data columns (total 89 columns):\n",
      " #   Column                           Non-Null Count  Dtype  \n",
      "---  ------                           --------------  -----  \n",
      " 0   meetingName                      13188 non-null  object \n",
      " 1   meetingDate                      13188 non-null  object \n",
      " 2   raceNumber                       13188 non-null  int64  \n",
      " 3   runnerNumber                     13188 non-null  int64  \n",
      " 4   location                         0 non-null      float64\n",
      " 5   weatherCondition                 13022 non-null  object \n",
      " 6   trackCondition                   13022 non-null  object \n",
      " 7   raceName                         13188 non-null  object \n",
      " 8   raceStartTime                    13188 non-null  object \n",
      " 9   raceDistance                     13188 non-null  int64  \n",
      " 10  trackDirection                   0 non-null      float64\n",
      " 11  raceClassConditions              13188 non-null  object \n",
      " 12  runnerName                       13188 non-null  object \n",
      " 13  riderName                        13188 non-null  object \n",
      " 14  finishingPosition                13022 non-null  float64\n",
      " 15  FixedWinOpen                     13188 non-null  float64\n",
      " 16  FixedWinClose                    13188 non-null  float64\n",
      " 17  overall (runner starts)          13188 non-null  int64  \n",
      " 18  track (runner starts)            13188 non-null  int64  \n",
      " 19  firm (runner starts)             13188 non-null  int64  \n",
      " 20  good (runner starts)             13188 non-null  int64  \n",
      " 21  dead (runner starts)             13188 non-null  int64  \n",
      " 22  slow (runner starts)             13188 non-null  int64  \n",
      " 23  soft (runner starts)             13188 non-null  int64  \n",
      " 24  heavy (runner starts)            13188 non-null  int64  \n",
      " 25  distance (runner starts)         13188 non-null  int64  \n",
      " 26  classSame (runner starts)        13188 non-null  int64  \n",
      " 27  classStronger (runner starts)    13188 non-null  int64  \n",
      " 28  firstUp (runner starts)          13188 non-null  int64  \n",
      " 29  secondUp (runner starts)         13188 non-null  int64  \n",
      " 30  trackDistance (runner starts)    13188 non-null  int64  \n",
      " 31  overall (runner wins)            13188 non-null  int64  \n",
      " 32  track (runner wins)              13188 non-null  int64  \n",
      " 33  firm (runner wins)               13188 non-null  int64  \n",
      " 34  good (runner wins)               13188 non-null  int64  \n",
      " 35  dead (runner wins)               13188 non-null  int64  \n",
      " 36  slow (runner wins)               13188 non-null  int64  \n",
      " 37  soft (runner wins)               13188 non-null  int64  \n",
      " 38  heavy (runner wins)              13188 non-null  int64  \n",
      " 39  distance (runner wins)           13188 non-null  int64  \n",
      " 40  classSame (runner wins)          13188 non-null  int64  \n",
      " 41  classStronger (runner wins)      13188 non-null  int64  \n",
      " 42  firstUp (runner wins)            13188 non-null  int64  \n",
      " 43  secondUp (runner wins)           13188 non-null  int64  \n",
      " 44  trackDistance (runner wins)      13188 non-null  int64  \n",
      " 45  overall (runner placings)        13188 non-null  int64  \n",
      " 46  track (runner placings)          13188 non-null  int64  \n",
      " 47  firm (runner placings)           13188 non-null  int64  \n",
      " 48  good (runner placings)           13188 non-null  int64  \n",
      " 49  dead (runner placings)           13188 non-null  int64  \n",
      " 50  slow (runner placings)           13188 non-null  int64  \n",
      " 51  soft (runner placings)           13188 non-null  int64  \n",
      " 52  heavy (runner placings)          13188 non-null  int64  \n",
      " 53  distance (runner placings)       13188 non-null  int64  \n",
      " 54  classSame (runner placings)      13188 non-null  int64  \n",
      " 55  classStronger (runner placings)  13188 non-null  int64  \n",
      " 56  firstUp (runner placings)        13188 non-null  int64  \n",
      " 57  secondUp (runner placings)       13188 non-null  int64  \n",
      " 58  trackDistance (runner placings)  13188 non-null  int64  \n",
      " 59  track (trainer starts)           13188 non-null  int64  \n",
      " 60  region (trainer starts)          13188 non-null  int64  \n",
      " 61  last30Days (trainer starts)      13188 non-null  int64  \n",
      " 62  last12Months (trainer starts)    13188 non-null  int64  \n",
      " 63  jockey (trainer starts)          13188 non-null  int64  \n",
      " 64  track (trainer wins)             13188 non-null  int64  \n",
      " 65  region (trainer wins)            13188 non-null  int64  \n",
      " 66  last30Days (trainer wins)        13188 non-null  int64  \n",
      " 67  last12Months (trainer wins)      13188 non-null  int64  \n",
      " 68  jockey (trainer wins)            13188 non-null  int64  \n",
      " 69  track (trainer placings)         13188 non-null  int64  \n",
      " 70  region (trainer placings)        13188 non-null  int64  \n",
      " 71  last30Days (trainer placings)    13188 non-null  int64  \n",
      " 72  last12Months (trainer placings)  13188 non-null  int64  \n",
      " 73  jockey (trainer placings)        13188 non-null  int64  \n",
      " 74  track (rider starts)             13188 non-null  int64  \n",
      " 75  region (rider starts)            13188 non-null  int64  \n",
      " 76  last30Days (rider starts)        13188 non-null  int64  \n",
      " 77  last12Months (rider starts)      13188 non-null  int64  \n",
      " 78  runner (rider starts)            13188 non-null  int64  \n",
      " 79  track (rider wins)               13188 non-null  int64  \n",
      " 80  region (rider wins)              13188 non-null  int64  \n",
      " 81  last30Days (rider wins)          13188 non-null  int64  \n",
      " 82  last12Months (rider wins)        13188 non-null  int64  \n",
      " 83  runner (rider wins)              13188 non-null  int64  \n",
      " 84  track (rider placings)           13188 non-null  int64  \n",
      " 85  region (rider placings)          13188 non-null  int64  \n",
      " 86  last30Days (rider placings)      13188 non-null  int64  \n",
      " 87  last12Months (rider placings)    13188 non-null  int64  \n",
      " 88  runner (rider placings)          13188 non-null  int64  \n",
      "dtypes: float64(5), int64(75), object(9)\n",
      "memory usage: 9.0+ MB\n"
     ]
    }
   ],
   "source": [
    "df = pd.read_csv(Path('runner_result_runner_result.csv'))\n",
    "df = df.drop(columns=\"Unnamed: 0\")\n",
    "df.info()"
   ]
  },
  {
   "cell_type": "code",
   "execution_count": 34,
   "id": "7c25bca1-5475-4fdc-a7de-f03d6416b5ef",
   "metadata": {
    "tags": []
   },
   "outputs": [],
   "source": [
    "runner_starts_df = df.iloc[:, 17:31]\n",
    "runner_wins_df = df.iloc[:,31:45]\n",
    "runner_placings_df = df.iloc[:,45:59]\n",
    "trainer_starts_df = df.iloc[:,59:64]\n",
    "trainer_wins_df = df.iloc[:,64:69]\n",
    "trainer_placings_df = df.iloc[:,69:74]\n",
    "rider_starts_df = df.iloc[:,74:79]\n",
    "rider_wins_df = df.iloc[:,79:84]\n",
    "rider_placings_df = df.iloc[:,84:]\n",
    "fixed_wins_df = df.iloc[:,15:17] \n",
    "\n",
    "runners_df = pd.concat([runner_starts_df,runner_wins_df,runner_placings_df],axis=1,join='inner')\n",
    "trainer_df = pd.concat([trainer_starts_df,trainer_wins_df,trainer_placings_df],axis=1,join='inner')\n",
    "rider_df = pd.concat([rider_starts_df,rider_wins_df,rider_placings_df],axis=1,join='inner') \n",
    "\n",
    "df = df.iloc[:,0:15]"
   ]
  },
  {
   "cell_type": "code",
   "execution_count": 35,
   "id": "b3fd7b0b-bb85-4f60-aa88-7ef810901442",
   "metadata": {
    "tags": []
   },
   "outputs": [
    {
     "data": {
      "text/plain": [
       "0    10435\n",
       "1     2753\n",
       "Name: finishingPosition, dtype: int64"
      ]
     },
     "execution_count": 35,
     "metadata": {},
     "output_type": "execute_result"
    }
   ],
   "source": [
    "df['finishingPosition'] = df['finishingPosition'].apply( lambda x: 1 if x>=1 and x<=3 else 0 )\n",
    "df.finishingPosition.value_counts()"
   ]
  },
  {
   "cell_type": "code",
   "execution_count": 37,
   "id": "372227ef-6cc4-49fc-bde1-508577545cdc",
   "metadata": {
    "tags": []
   },
   "outputs": [],
   "source": [
    "y = df.finishingPosition"
   ]
  },
  {
   "cell_type": "code",
   "execution_count": 38,
   "id": "3a7774d4-49bc-4eac-a496-dd8c92a6e82a",
   "metadata": {
    "tags": []
   },
   "outputs": [],
   "source": [
    "# Convert categorical features to numerical\n",
    "weatherCondition_df = pd.get_dummies(df.weatherCondition)\n",
    "trackCondition_df = pd.get_dummies(df.trackCondition)\n",
    "raceClassConditions_df = pd.get_dummies(df.raceClassConditions)"
   ]
  },
  {
   "cell_type": "code",
   "execution_count": 39,
   "id": "ac94c028-ad56-4e7c-b1e0-056f0531a015",
   "metadata": {
    "tags": []
   },
   "outputs": [
    {
     "data": {
      "text/plain": [
       "raceDistance\n",
       "1200            2097\n",
       "1400            1809\n",
       "1100            1603\n",
       "1000            1345\n",
       "1600            1140\n",
       "                ... \n",
       "870                8\n",
       "3600               8\n",
       "3800               8\n",
       "1560               7\n",
       "2218               6\n",
       "Length: 109, dtype: int64"
      ]
     },
     "execution_count": 39,
     "metadata": {},
     "output_type": "execute_result"
    }
   ],
   "source": [
    "df = df.drop(columns=['weatherCondition','trackCondition','location','trackDirection','runnerName','riderName'])\n",
    "df = df.drop(columns=['meetingDate','raceStartTime','raceClassConditions','raceName','meetingName'])\n",
    "# X = df.drop(columns='finishingPosition')\n",
    "df = df.drop(columns='finishingPosition')\n",
    "X = df.drop(columns=['raceNumber','runnerNumber'])\n",
    "\n",
    "X.value_counts()"
   ]
  },
  {
   "cell_type": "code",
   "execution_count": 76,
   "id": "a563abf4-2ac6-4506-a0ce-81b2737f2990",
   "metadata": {
    "tags": []
   },
   "outputs": [],
   "source": [
    "def logisticRegression(X,y,include_dfs):\n",
    "    from sklearn.linear_model import LogisticRegression\n",
    "    from sklearn.metrics import confusion_matrix\n",
    "    from sklearn.preprocessing import StandardScaler\n",
    "    from sklearn.model_selection import train_test_split\n",
    "    \n",
    "    \n",
    "    if len(include) > 0:\n",
    "        for data_frame in include_dfs:\n",
    "            X = pd.concat([X, data_frame],axis=1,join='inner')\n",
    "\n",
    "    X_train, X_test, y_train, y_test = train_test_split(X, y, random_state=1)\n",
    "    X_scaler = StandardScaler()\n",
    "    X_scaler.fit(X_train)\n",
    "    X_train_scaled = X_scaler.transform(X_train)\n",
    "    X_test_scaled = X_scaler.transform(X_test)\n",
    "    \n",
    "    # classifier = LogisticRegression(solver='lbfgs', random_state=1)\n",
    "    classifier = LogisticRegression(solver='newton-cholesky', random_state=1)\n",
    "    # classifier.fit(X_train, y_train)\n",
    "    classifier.fit(X_train_scaled, y_train)\n",
    "    \n",
    "    # print(f\"Training Data Score: {classifier.score(X_train, y_train)}\")\n",
    "    # print(f\"Testing Data Score: {classifier.score(X_test, y_test)}\")\n",
    "    # print(\"------------------\")\n",
    "    \n",
    "    predictions = classifier.predict(X_test)\n",
    "    predictions_df = pd.DataFrame({\"Prediction\": predictions, \"Actual\": y_test})#.tail(10)\n",
    "\n",
    "#     # Confusion Matrix\n",
    "#     confusion_matrix(y_test, predictions)\n",
    "    \n",
    "    from sklearn.metrics import accuracy_score\n",
    "    # Display the accuracy score for the test dataset.\n",
    "    accuracy_score(y_test, predictions)\n",
    "\n",
    "    return predictions_df\n",
    "    "
   ]
  },
  {
   "cell_type": "code",
   "execution_count": 78,
   "id": "072fb744-1511-4a78-a69a-68fe0f0de917",
   "metadata": {
    "tags": []
   },
   "outputs": [
    {
     "name": "stderr",
     "output_type": "stream",
     "text": [
      "C:\\ProgramData\\Anaconda3\\envs\\dev\\lib\\site-packages\\sklearn\\base.py:432: UserWarning: X has feature names, but LogisticRegression was fitted without feature names\n",
      "  warnings.warn(\n"
     ]
    },
    {
     "data": {
      "text/plain": [
       "Prediction  Actual\n",
       "1           0         2619\n",
       "            1          678\n",
       "dtype: int64"
      ]
     },
     "execution_count": 78,
     "metadata": {},
     "output_type": "execute_result"
    }
   ],
   "source": [
    "# runners_df = pd.concat([runner_starts_df,runner_wins_df,runner_placings_df],axis=1,join='inner')\n",
    "# runner_starts_df\n",
    "# runner_wins_df\n",
    "# runner_placings_df\n",
    "\n",
    "# trainer_df = pd.concat([trainer_starts_df,trainer_wins_df,trainer_placings_df],axis=1,join='inner')\n",
    "# trainer_starts_df\n",
    "# trainer_wins_df\n",
    "# trainer_placings_df\n",
    "\n",
    "# rider_df = pd.concat([rider_starts_df,rider_wins_df,rider_placings_df],axis=1,join='inner') \n",
    "# rider_starts_df\n",
    "# rider_wins_df\n",
    "# rider_placings_df\n",
    "\n",
    "# fixed_wins_df\n",
    "# df = df.iloc[:,0:15]\n",
    "\n",
    "# weatherCondition_df\n",
    "# trackCondition_df\n",
    "# raceClassConditions_df\n",
    "\n",
    "include_dfs = [runners_df]#,trainer_df,rider_df,weatherCondition_df,trackCondition_df,raceClassConditions_df]\n",
    "predictions_df = logisticRegression(X,y,include_dfs)\n",
    "predictions_df.value_counts()"
   ]
  },
  {
   "cell_type": "code",
   "execution_count": null,
   "id": "06db0363-ed98-447a-9f0c-89ab7aff1f4e",
   "metadata": {},
   "outputs": [],
   "source": []
  }
 ],
 "metadata": {
  "kernelspec": {
   "display_name": "Python 3 (ipykernel)",
   "language": "python",
   "name": "python3"
  },
  "language_info": {
   "codemirror_mode": {
    "name": "ipython",
    "version": 3
   },
   "file_extension": ".py",
   "mimetype": "text/x-python",
   "name": "python",
   "nbconvert_exporter": "python",
   "pygments_lexer": "ipython3",
   "version": "3.10.11"
  }
 },
 "nbformat": 4,
 "nbformat_minor": 5
}
